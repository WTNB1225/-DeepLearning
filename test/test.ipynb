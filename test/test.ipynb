{
 "cells": [
  {
   "cell_type": "code",
   "execution_count": 2,
   "metadata": {},
   "outputs": [],
   "source": [
    "import numpy as np\n",
    "import matplotlib.pyplot as plt"
   ]
  },
  {
   "cell_type": "code",
   "execution_count": 25,
   "metadata": {},
   "outputs": [],
   "source": [
    "def cross_entropy_error(y, t):\n",
    "  if y.ndim == 1:\n",
    "    t = t.reshape(1, t.size)\n",
    "    y = y.reshape(1, y.size)\n",
    "    print(\"1dim\")\n",
    "  \n",
    "  # 教師データがone-hot-vectorの場合、正解ラベルのインデックスに変換\n",
    "  print(t.size, y.size)\n",
    "  if t.size == y.size:\n",
    "    t = t.argmax(axis=1)\n",
    "    print(t)\n",
    "    print(\"one-hot\")\n",
    "    \n",
    "  batch_size = y.shape[0]\n",
    "  print(np.arange(batch_size))\n",
    "  print(batch_size)\n",
    "  return -np.sum(np.log(y[np.arange(batch_size), t] + 1e-7)) / batch_size"
   ]
  },
  {
   "cell_type": "code",
   "execution_count": 26,
   "metadata": {},
   "outputs": [
    {
     "name": "stdout",
     "output_type": "stream",
     "text": [
      "1dim\n",
      "3 3\n",
      "[2]\n",
      "one-hot\n",
      "[0]\n",
      "1\n",
      "0.3566748010815999\n"
     ]
    }
   ],
   "source": [
    "y = np.array([0.1, 0.2, 0.7])\n",
    "t = np.array([0, 0, 1])\n",
    "\n",
    "# 関数を呼び出して交差エントロピー誤差を計算\n",
    "error = cross_entropy_error(y, t)\n",
    "print(error)"
   ]
  },
  {
   "cell_type": "code",
   "execution_count": 32,
   "metadata": {},
   "outputs": [
    {
     "name": "stdout",
     "output_type": "stream",
     "text": [
      "2\n",
      "[[0.09003057 0.24472847 0.66524096]\n",
      " [0.09003057 0.24472847 0.66524096]]\n",
      "[[0 0 1]\n",
      " [1 0 0]]\n",
      "[[ 0.09003057  0.24472847 -0.33475904]\n",
      " [-0.90996943  0.24472847  0.66524096]]\n",
      "[[ 0.04501529  0.12236424 -0.16737952]\n",
      " [-0.45498471  0.12236424  0.33262048]]\n"
     ]
    }
   ],
   "source": [
    "import numpy as np\n",
    "\n",
    "# ソフトマックス関数\n",
    "def softmax(x):\n",
    "    exp_x = np.exp(x - np.max(x, axis=-1, keepdims=True))  # オーバーフロー対策\n",
    "    return exp_x / np.sum(exp_x, axis=-1, keepdims=True)\n",
    "\n",
    "# 交差エントロピー誤差\n",
    "def cross_entropy_error(y, t):\n",
    "    delta = 1e-7  # ゼロ除算対策\n",
    "    batch_size = y.shape[0]\n",
    "    return -np.sum(t * np.log(y + delta)) / batch_size\n",
    "\n",
    "\n",
    "class SoftmaxWithLoss:\n",
    "  def __init__(self):\n",
    "    self.loss = None #損失\n",
    "    self.y = None #softmaxの出力\n",
    "    self.t = None #教師データ(one-hot vector)\n",
    "    \n",
    "  def forward(self, x, t):\n",
    "    self.t = t\n",
    "    self.y = softmax(x)\n",
    "    self.loss = cross_entropy_error(self.y, self.t)\n",
    "    \n",
    "    return self.loss\n",
    "  \n",
    "  def backward(self, dout=1):\n",
    "    batch_size = self.t.shape[0]\n",
    "    dx = (self.y - self.t) / batch_size\n",
    "    print(batch_size)\n",
    "    print(self.y)\n",
    "    print(self.t)\n",
    "    print(self.y - self.t)\n",
    "    print(dx)\n",
    "    \n",
    "    return dx\n",
    "# SoftmaxWithLossクラスの例\n",
    "swl = SoftmaxWithLoss()\n",
    "\n",
    "# forwardメソッドの例\n",
    "x = np.array([[1, 2, 3], [4, 5, 6]])  # 入力\n",
    "t = np.array([[0, 0, 1], [1, 0, 0]])  # 教師データ(one-hot vector)\n",
    "loss = swl.forward(x, t)\n",
    "#print(loss)  # 損失を出力\n",
    "\n",
    "# backwardメソッドの例\n",
    "dout = 1  # 上流から伝わる勾配\n",
    "dx = swl.backward(dout)\n",
    "#print(dx)  # 入力に関する勾配を出力"
   ]
  },
  {
   "cell_type": "code",
   "execution_count": null,
   "metadata": {},
   "outputs": [],
   "source": []
  }
 ],
 "metadata": {
  "kernelspec": {
   "display_name": "Python 3 (ipykernel)",
   "language": "python",
   "name": "python3"
  },
  "language_info": {
   "codemirror_mode": {
    "name": "ipython",
    "version": 3
   },
   "file_extension": ".py",
   "mimetype": "text/x-python",
   "name": "python",
   "nbconvert_exporter": "python",
   "pygments_lexer": "ipython3",
   "version": "3.9.13"
  }
 },
 "nbformat": 4,
 "nbformat_minor": 2
}
